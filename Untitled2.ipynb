{
  "nbformat": 4,
  "nbformat_minor": 0,
  "metadata": {
    "colab": {
      "provenance": [],
      "authorship_tag": "ABX9TyPeJDqGTcPcL41Qdzx2LQqd",
      "include_colab_link": true
    },
    "kernelspec": {
      "name": "python3",
      "display_name": "Python 3"
    },
    "language_info": {
      "name": "python"
    }
  },
  "cells": [
    {
      "cell_type": "markdown",
      "metadata": {
        "id": "view-in-github",
        "colab_type": "text"
      },
      "source": [
        "<a href=\"https://colab.research.google.com/github/Payal2693/Payal2693/blob/main/Untitled2.ipynb\" target=\"_parent\"><img src=\"https://colab.research.google.com/assets/colab-badge.svg\" alt=\"Open In Colab\"/></a>"
      ]
    },
    {
      "cell_type": "code",
      "execution_count": 1,
      "metadata": {
        "colab": {
          "base_uri": "https://localhost:8080/"
        },
        "id": "Yf2jPH9eEzn3",
        "outputId": "7f91d2a9-246b-4746-c17e-3fbe1a487444"
      },
      "outputs": [
        {
          "output_type": "stream",
          "name": "stdout",
          "text": [
            "        age    income  city_Houston  city_Los Angeles  city_New York  \\\n",
            "0 -1.414214 -1.414214         False             False           True   \n",
            "1 -0.707107 -0.707107         False              True          False   \n",
            "2  0.000000  0.000000         False             False          False   \n",
            "3  0.707107  0.707107          True             False          False   \n",
            "4  1.414214  1.414214         False             False          False   \n",
            "\n",
            "   city_Phoenix  \n",
            "0         False  \n",
            "1         False  \n",
            "2         False  \n",
            "3         False  \n",
            "4          True  \n"
          ]
        }
      ],
      "source": [
        "import pandas as pd\n",
        "from sklearn.preprocessing import StandardScaler,OneHotEncoder\n",
        "from sklearn.model_selection import train_test_split\n",
        "from sklearn.compose import ColumnTransformer\n",
        "from sklearn.pipeline import Pipeline\n",
        "\n",
        "#Sample dataset\n",
        "data={'age':[25,30,35,40,45],\n",
        "      'income':[50000,60000,70000,80000,90000],\n",
        "      'city':['New York','Los Angeles','Chicago','Houston','Phoenix']}\n",
        "\n",
        "df=pd.DataFrame(data)\n",
        "\n",
        "#1.feature scaling:Scaling the age and income columns\n",
        "\n",
        "scaler=StandardScaler()\n",
        "df[['age','income']]=scaler.fit_transform(df[['age','income']])\n",
        "\n",
        "#2.One-Hot Encoding:Encoding the city column\n",
        "df=pd.get_dummies(df,columns=['city'],drop_first=True)\n",
        "print(df)\n"
      ]
    }
  ]
}